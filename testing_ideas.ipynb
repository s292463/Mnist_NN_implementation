{
 "cells": [
  {
   "cell_type": "code",
   "execution_count": 7,
   "metadata": {},
   "outputs": [],
   "source": [
    "from model import Model\n",
    "import matplotlib.image as mpimg"
   ]
  },
  {
   "cell_type": "code",
   "execution_count": 8,
   "metadata": {},
   "outputs": [
    {
     "name": "stdout",
     "output_type": "stream",
     "text": [
      "\n"
     ]
    }
   ],
   "source": [
    "nn = Model((10,3,10))\n",
    "\n",
    "#img = mpimg.imread('H:\\\\Projects\\\\Mnist_NN_implementation\\\\MNIST Dataset JPG format\\\\MNIST Dataset JPG format\\\\MNIST - JPG - testing\\\\0\\\\3.jpg')\n",
    "print()"
   ]
  }
 ],
 "metadata": {
  "interpreter": {
   "hash": "6b53787f348b09bb65ddab0d650b5410d60ac9d86e70cf9600c1f69133055024"
  },
  "kernelspec": {
   "display_name": "Python 3.7.10 ('ML_course')",
   "language": "python",
   "name": "python3"
  },
  "language_info": {
   "codemirror_mode": {
    "name": "ipython",
    "version": 3
   },
   "file_extension": ".py",
   "mimetype": "text/x-python",
   "name": "python",
   "nbconvert_exporter": "python",
   "pygments_lexer": "ipython3",
   "version": "3.7.10"
  },
  "orig_nbformat": 4
 },
 "nbformat": 4,
 "nbformat_minor": 2
}
